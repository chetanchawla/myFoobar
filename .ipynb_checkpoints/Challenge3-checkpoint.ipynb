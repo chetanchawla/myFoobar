{
 "cells": [
  {
   "cell_type": "markdown",
   "metadata": {},
   "source": [
    "## Problem Statement 2-B\n",
    "\n",
    "#### Gearing Up for Destruction\n",
    "\n",
    "As Commander Lambda's personal assistant, you've been assigned the task of configuring the LAMBCHOP doomsday device's axial orientation gears. It should be pretty simple - just add gears to create the appropriate rotation ratio. But the problem is, due to the layout of the LAMBCHOP and the complicated system of beams and pipes supporting it, the pegs that will support the gears are fixed in place.\n",
    "\n",
    "The LAMBCHOP's engineers have given you lists identifying the placement of groups of pegs along various support beams. You need to place a gear on each peg (otherwise the gears will collide with unoccupied pegs). The engineers have plenty of gears in all different sizes stocked up, so you can choose gears of any size, from a radius of 1 on up. Your goal is to build a system where the last gear rotates at twice the rate (in revolutions per minute, or rpm) of the first gear, no matter the direction. Each gear (except the last) touches and turns the gear on the next peg to the right.\n",
    "\n",
    "Given a list of distinct positive integers named pegs representing the location of each peg along the support beam, write a function solution(pegs) which, if there is a solution, returns a list of two positive integers a and b representing the numerator and denominator of the first gear's radius in its simplest form in order to achieve the goal above, such that radius = a/b. The ratio a/b should be greater than or equal to 1. Not all support configurations will necessarily be capable of creating the proper rotation ratio, so if the task is impossible, the function solution(pegs) should return the list [-1, -1].\n",
    "\n",
    "For example, if the pegs are placed at [4, 30, 50], then the first gear could have a radius of 12, the second gear could have a radius of 14, and the last one a radius of 6. Thus, the last gear would rotate twice as fast as the first one. In this case, pegs would be [4, 30, 50] and solution(pegs) should return [12, 1].\n",
    "\n",
    "The list pegs will be given sorted in ascending order and will contain at least 2 and no more than 20 distinct positive integers, all between 1 and 10000 inclusive.\n",
    "\n",
    "#### Languages\n",
    "\n",
    "To provide a Java solution, edit Solution.java\n",
    "To provide a Python solution, edit solution.py\n",
    "\n",
    "#### Test cases\n",
    "\n",
    "Your code should pass the following test cases.\n",
    "Note that it may also be run against hidden test cases not shown here.\n",
    "\n",
    "-- Java cases --\n",
    "Input:\n",
    "Solution.solution({4, 17, 50})\n",
    "Output:\n",
    "    -1,-1\n",
    "\n",
    "Input:\n",
    "Solution.solution({4, 30, 50})\n",
    "Output:\n",
    "    12,1\n",
    "\n",
    "-- Python cases --\n",
    "Input:\n",
    "solution.solution([4, 30, 50])\n",
    "Output:\n",
    "    12,1\n",
    "\n",
    "Input:\n",
    "solution.solution([4, 17, 50])\n",
    "Output:\n",
    "    -1,-1"
   ]
  },
  {
   "cell_type": "code",
   "execution_count": 13,
   "metadata": {},
   "outputs": [],
   "source": [
    "from fractions import Fraction\n",
    "def solution(pegs):\n",
    "    radius=0\n",
    "    if len(pegs)==1:\n",
    "        return -1,-1\n",
    "    for i in range(1,len(pegs)):\n",
    "        pegDist=pegs[-i] - pegs[-(i+1)]\n",
    "        if i%2==1:\n",
    "            radius=radius+pegDist\n",
    "        else:\n",
    "            radius=radius-pegDist\n",
    "    if(len(pegs)%2==1):\n",
    "        radius=radius*(-2)\n",
    "    else:\n",
    "        radius=(float(radius)*2)/3\n",
    "    if radius>=1:\n",
    "        ##To check distance and radius at each step is not 0 (impossible case)\n",
    "        tempRadius=radius\n",
    "        for i in range(0, len(pegs)-2):\n",
    "            distance = pegs[i+1] - pegs[i]\n",
    "            dist_rad = distance - tempRadius\n",
    "            if(tempRadius < 1 or dist_rad < 1): \n",
    "                return -1,-1\n",
    "            else: \n",
    "                tempRadius = dist_rad\n",
    "        return Fraction(radius).limit_denominator().numerator,Fraction(radius).limit_denominator().denominator\n",
    "    else:\n",
    "        return -1,-1"
   ]
  },
  {
   "cell_type": "code",
   "execution_count": 14,
   "metadata": {},
   "outputs": [
    {
     "data": {
      "text/plain": [
       "(-1, -1)"
      ]
     },
     "execution_count": 14,
     "metadata": {},
     "output_type": "execute_result"
    }
   ],
   "source": [
    "pegs=[10,80,110,150,190,210]\n",
    "#pegs=[4,30,50]\n",
    "#pegs=[4,17,50]\n",
    "#pegs=[5,30,50,65]\n",
    "##print(len(pegs))\n",
    "solution(pegs)"
   ]
  },
  {
   "cell_type": "code",
   "execution_count": 6,
   "metadata": {},
   "outputs": [
    {
     "name": "stdout",
     "output_type": "stream",
     "text": [
      "[-1, -1]\n"
     ]
    }
   ],
   "source": [
    "from fractions import Fraction\n",
    "\n",
    "def solution(a):\n",
    "    l= len(a)\n",
    "    if(not a or l == 1): \n",
    "        return [-1,-1]\n",
    "    s = (a[l-1] - a[0]) if (l % 2 == 0) else (-a[l-1]-a[0])\n",
    "    if(l > 2): \n",
    "        for i in range(1, l-1): \n",
    "            s+= 2 * (-1)**(i+1) * a[i]\n",
    "    v = Fraction(2*(float(s)/3 if (l%2==0) else float(s))).limit_denominator()\n",
    "    c = v;\n",
    "    for i in range(0, l-2):\n",
    "        d = a[i+1] - a[i]\n",
    "        n = d - c\n",
    "        if(c < 1 or n < 1): return [-1,-1]\n",
    "        else: c = n\n",
    "    return [v.numerator, v.denominator]\n",
    "pegs=[10,80,110,150,190,210]\n",
    "print(solution(pegs))"
   ]
  }
 ],
 "metadata": {
  "kernelspec": {
   "display_name": "Python 3",
   "language": "python",
   "name": "python3"
  },
  "language_info": {
   "codemirror_mode": {
    "name": "ipython",
    "version": 3
   },
   "file_extension": ".py",
   "mimetype": "text/x-python",
   "name": "python",
   "nbconvert_exporter": "python",
   "pygments_lexer": "ipython3",
   "version": "3.6.9"
  }
 },
 "nbformat": 4,
 "nbformat_minor": 4
}
