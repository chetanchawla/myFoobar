{
 "cells": [
  {
   "cell_type": "markdown",
   "metadata": {},
   "source": [
    "## Round 3- Q1\n",
    "\n",
    "### Find the Access Codes\n",
    "\n",
    "\n",
    "In order to destroy Commander Lambda's LAMBCHOP doomsday device, you'll need access to it. But the only door leading to the LAMBCHOP chamber is secured with a unique lock system whose number of passcodes changes daily. Commander Lambda gets a report every day that includes the locks' access codes, but only she knows how to figure out which of several lists contains the access codes. You need to find a way to determine which list contains the access codes once you're ready to go in. \n",
    "\n",
    "Fortunately, now that you're Commander Lambda's personal assistant, she's confided to you that she made all the access codes \"lucky triples\" in order to help her better find them in the lists. A \"lucky triple\" is a tuple (x, y, z) where x divides y and y divides z, such as (1, 2, 4). With that information, you can figure out which list contains the number of access codes that matches the number of locks on the door when you're ready to go in (for example, if there's 5 passcodes, you'd need to find a list with 5 \"lucky triple\" access codes).\n",
    "\n",
    "Write a function solution(l) that takes a list of positive integers l and counts the number of \"lucky triples\" of (li, lj, lk) where the list indices meet the requirement i < j < k.  The length of l is between 2 and 2000 inclusive.  The elements of l are between 1 and 999999 inclusive.  The answer fits within a signed 32-bit integer. Some of the lists are purposely generated without any access codes to throw off spies, so if no triples are found, return 0. \n",
    "\n",
    "For example, [1, 2, 3, 4, 5, 6] has the triples: [1, 2, 4], [1, 2, 6], [1, 3, 6], making the answer 3 total.\n",
    "\n",
    "#### Languages\n",
    "\n",
    "To provide a Java solution, edit Solution.java\n",
    "To provide a Python solution, edit solution.py\n",
    "\n",
    "#### Test cases\n",
    "\n",
    "Your code should pass the following test cases.\n",
    "Note that it may also be run against hidden test cases not shown here.\n",
    "\n",
    "-- Java cases --\n",
    "Input:\n",
    "Solution.solution([1, 1, 1])\n",
    "Output:\n",
    "    1\n",
    "\n",
    "Input:\n",
    "Solution.solution([1, 2, 3, 4, 5, 6])\n",
    "Output:\n",
    "    3\n",
    "\n",
    "-- Python cases --\n",
    "Input:\n",
    "solution.solution([1, 2, 3, 4, 5, 6])\n",
    "Output:\n",
    "    3\n",
    "\n",
    "Input:\n",
    "solution.solution([1, 1, 1])\n",
    "Output:\n",
    "    1\n"
   ]
  },
  {
   "cell_type": "code",
   "execution_count": 124,
   "metadata": {},
   "outputs": [],
   "source": [
    "def solution(arr):\n",
    "    length=len(arr)\n",
    "    passcodes=0\n",
    "    for i in range(0,length):\n",
    "        el1=arr[i]\n",
    "        ##print(el1)\n",
    "        for j in range(i+1, length):\n",
    "            el2=arr[j]\n",
    "            if el2>=el1:\n",
    "                if el2%el1==0:\n",
    "                    ##print(\"\\t\", el2)\n",
    "                    for k in range(j+1, length):\n",
    "                        el3=arr[k]\n",
    "                        if el3>=el2:\n",
    "                            if el3%el2==0:\n",
    "                                print(el1,el2,el3)\n",
    "                                passcodes=passcodes+1\n",
    "    return(passcodes)"
   ]
  },
  {
   "cell_type": "code",
   "execution_count": 139,
   "metadata": {},
   "outputs": [],
   "source": [
    "def answer(l):\n",
    "    cnt = 0\n",
    "    memo = [0] * len(l)\n",
    "    for i in range(len(l) - 1):\n",
    "        for j in range(i + 1, len(l)):\n",
    "            if l[j] % l[i] == 0:\n",
    "                print(i,j, l[i],l[j])\n",
    "                memo[j] += 1\n",
    "                print(memo[i])\n",
    "                cnt += memo[i]\n",
    "    print(memo)\n",
    "    return cnt"
   ]
  },
  {
   "cell_type": "code",
   "execution_count": 140,
   "metadata": {},
   "outputs": [
    {
     "name": "stdout",
     "output_type": "stream",
     "text": [
      "0 1 1 2\n",
      "0\n",
      "0 2 1 3\n",
      "0\n",
      "0 3 1 4\n",
      "0\n",
      "0 4 1 5\n",
      "0\n",
      "0 5 1 6\n",
      "0\n",
      "1 3 2 4\n",
      "1\n",
      "1 5 2 6\n",
      "1\n",
      "2 5 3 6\n",
      "1\n",
      "[0, 1, 1, 2, 1, 3]\n"
     ]
    },
    {
     "data": {
      "text/plain": [
       "3"
      ]
     },
     "execution_count": 140,
     "metadata": {},
     "output_type": "execute_result"
    }
   ],
   "source": [
    "##solution([1,2,3,4,5,6])\n",
    "answer([1,2,3,4,5,6])\n",
    "#solution([1,2,4,6,8,12,16,18])"
   ]
  },
  {
   "cell_type": "markdown",
   "metadata": {},
   "source": [
    "## Dry run"
   ]
  },
  {
   "cell_type": "code",
   "execution_count": null,
   "metadata": {},
   "outputs": [],
   "source": [
    "[1, 2, 3, 4, 5, 6]\n",
    "e1=1\n",
    "    e2=2\n",
    "        e3=4\n",
    "        e3=6\n",
    "    e2=3\n",
    "        e3=6\n",
    "    e2=4\n",
    "    e2=5\n",
    "    e2=6\n",
    "e1=2\n",
    "    e2=4\n",
    "    e2=6\n",
    "e1=3\n",
    "    e2=6\n",
    "e1=4\n",
    "e1=5\n",
    "e1=6"
   ]
  },
  {
   "cell_type": "code",
   "execution_count": null,
   "metadata": {},
   "outputs": [],
   "source": [
    "def solution(arr):\n",
    "    passcodes=0\n",
    "    length=len(arr)\n",
    "    if(length>2):\n",
    "        for i in range(length):\n",
    "            el1=arr[i]\n",
    "            for j in range(i+1, length):\n",
    "                el2=arr[j]\n",
    "                if el2>=el1:\n",
    "                    if el2%el1==0:\n",
    "                        for k in range(j+1, length):\n",
    "                            el3=arr[k]\n",
    "                            if el3>=el2:\n",
    "                                if el3%el2==0:\n",
    "                                    passcodes=passcodes+1\n",
    "    return(passcodes)"
   ]
  },
  {
   "cell_type": "code",
   "execution_count": 202,
   "metadata": {},
   "outputs": [],
   "source": [
    "def solution(arr):\n",
    "    passcodes=0\n",
    "    length=len(arr)\n",
    "    pairs=[]\n",
    "    if(length>2):\n",
    "        for i in range(length):\n",
    "            for j in range(i+1,length):\n",
    "                if arr[j]%arr[i]==0:\n",
    "                    pairs.append([arr[i],arr[j]])\n",
    "    print(pairs)\n",
    "    pLength=len(pairs)\n",
    "    for i in range(pLength):\n",
    "        for j in range(i+1,pLength):\n",
    "            if(pairs[i][1]==pairs[j][0]):\n",
    "                passcodes+=1\n",
    "    return(passcodes)"
   ]
  },
  {
   "cell_type": "code",
   "execution_count": 204,
   "metadata": {},
   "outputs": [
    {
     "name": "stdout",
     "output_type": "stream",
     "text": [
      "[[1, 1], [1, 1], [1, 1]]\n"
     ]
    },
    {
     "data": {
      "text/plain": [
       "3"
      ]
     },
     "execution_count": 204,
     "metadata": {},
     "output_type": "execute_result"
    }
   ],
   "source": [
    "#solution([1,2,3,4,5,6])\n",
    "solution([1,1,1])\n",
    "#solution([1,2,4,6,8,12,16,18])"
   ]
  },
  {
   "cell_type": "code",
   "execution_count": 199,
   "metadata": {},
   "outputs": [
    {
     "name": "stdout",
     "output_type": "stream",
     "text": [
      "[[28944, 289440], [271517, 543034], [162, 297918], [162, 757998], [162, 222264], [162, 144342], [162, 687204], [162, 695466], [67706, 880178], [148743, 594972], [564341, 564341]]\n",
      "0\n"
     ]
    }
   ],
   "source": [
    "import random\n",
    "randomList=[]\n",
    "for i in range(random.randint(0,2000)):\n",
    "    randomList.append(random.randint(0,999999))\n",
    "#print(randomList)\n",
    "solution(randomList)"
   ]
  }
 ],
 "metadata": {
  "kernelspec": {
   "display_name": "Python 3",
   "language": "python",
   "name": "python3"
  },
  "language_info": {
   "codemirror_mode": {
    "name": "ipython",
    "version": 3
   },
   "file_extension": ".py",
   "mimetype": "text/x-python",
   "name": "python",
   "nbconvert_exporter": "python",
   "pygments_lexer": "ipython3",
   "version": "3.6.9"
  },
  "nteract": {
   "version": "0.22.4"
  }
 },
 "nbformat": 4,
 "nbformat_minor": 4
}
