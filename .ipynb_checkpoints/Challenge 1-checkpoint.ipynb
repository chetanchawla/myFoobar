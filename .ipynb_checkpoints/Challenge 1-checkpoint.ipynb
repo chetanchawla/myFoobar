{
 "cells": [
  {
   "cell_type": "markdown",
   "metadata": {},
   "source": [
    "# Problem Statment"
   ]
  },
  {
   "cell_type": "markdown",
   "metadata": {},
   "source": [
    "Lambda has a list of prime numbers. \n",
    "He wants to assign a number to each minion.\n",
    "Each minion should draw a random number from 0 to 10000 from a hat\n",
    "This number will be the index from which we have to extract the ID for minion. Extract the next 5 digits from Lambda's string to make it the ID of the minions"
   ]
  },
  {
   "cell_type": "code",
   "execution_count": 46,
   "metadata": {},
   "outputs": [
    {
     "name": "stdout",
     "output_type": "stream",
     "text": [
      "10009\n",
      "71113\n"
     ]
    }
   ],
   "source": [
    "lowerLimit = 0\n",
    "upperLimit = 10007\n",
    "lambdaList=''\n",
    "num=0\n",
    "# for num in range(lowerLimit, upperLimit + 1):\n",
    "#    if num > 1:\n",
    "#        for i in range(2, num):\n",
    "#            if (num % i) == 0:\n",
    "#                break\n",
    "#        else:\n",
    "#            lambdaList=lambdaList+str(num)\n",
    "# ##print(\"Lambda's list: \", lambdaList)\n",
    "# print(len(lambdaList))\n",
    "\n",
    "while len(lambdaList)<10005:\n",
    "    num=num+1\n",
    "    if num>1:\n",
    "        for i in range(2, num):\n",
    "           if (num % i) == 0:\n",
    "               break\n",
    "        else:\n",
    "           lambdaList=lambdaList+str(num)\n",
    "print(len(lambdaList))\n",
    "chosenNumber=3\n",
    "print(lambdaList[chosenNumber:chosenNumber+5])\n",
    "\n",
    "\n",
    "# subList=''\n",
    "# for num in range(lowerLimit, chosenNumber + 1):\n",
    "#    if num > 1:\n",
    "#        for i in range(2, num):\n",
    "#            if (num % i) == 0:\n",
    "#                break\n",
    "#        else:\n",
    "#            subList=subList+str(num)\n",
    "# print(\"subList: \", subList)\n",
    "# print(\"Length of subList: \", len(subList))\n",
    "# if len(subList)==0:\n",
    "#     print(\"ID: \", lambdaList[len(subList):len(subList)+5])\n",
    "# else: \n",
    "#     print(\"ID: \", lambdaList[len(subList)+1:len(subList)+6])"
   ]
  },
  {
   "cell_type": "code",
   "execution_count": 47,
   "metadata": {},
   "outputs": [
    {
     "name": "stdout",
     "output_type": "stream",
     "text": [
      "71113\n"
     ]
    }
   ],
   "source": [
    "lambdaList=''\n",
    "num=0\n",
    "while len(lambdaList)<10005:\n",
    "    num=num+1\n",
    "    if num>1:\n",
    "        for i in range(2, num):\n",
    "           if (num % i) == 0:\n",
    "               break\n",
    "        else:\n",
    "           lambdaList=lambdaList+str(num)\n",
    "print(lambdaList[chosenNumber:chosenNumber+5])"
   ]
  },
  {
   "cell_type": "code",
   "execution_count": 52,
   "metadata": {},
   "outputs": [
    {
     "name": "stdout",
     "output_type": "stream",
     "text": [
      "71113\n"
     ]
    }
   ],
   "source": [
    "def solution(n):\n",
    "    lambdaList=''\n",
    "    num=0\n",
    "    while len(lambdaList)<10005:\n",
    "        num=num+1\n",
    "        if num>1:\n",
    "            for i in range(2, num):\n",
    "               if (num % i) == 0:\n",
    "                   break\n",
    "            else:\n",
    "               lambdaList=lambdaList+str(num)\n",
    "    return(lambdaList[n:n+5])\n",
    "print(solution(3))"
   ]
  },
  {
   "cell_type": "code",
   "execution_count": 62,
   "metadata": {},
   "outputs": [
    {
     "name": "stdout",
     "output_type": "stream",
     "text": [
      "\n"
     ]
    }
   ],
   "source": [
    "class Solution:\n",
    "    def __init__(self):\n",
    "        pass\n",
    "    def solution(i):\n",
    "        lambdaList=''\n",
    "        num=0\n",
    "        while len(lambdaList)<10005:\n",
    "            num=num+1\n",
    "            if num>1:\n",
    "                for i in range(2, num):\n",
    "                   if (num % i) == 0:\n",
    "                       break\n",
    "                else:\n",
    "                   lambdaList=lambdaList+str(num)\n",
    "        return(lambdaList[i:i+5])\n",
    "print(Solution.solution(3))"
   ]
  },
  {
   "cell_type": "code",
   "execution_count": 58,
   "metadata": {},
   "outputs": [
    {
     "name": "stdout",
     "output_type": "stream",
     "text": [
      "\n"
     ]
    }
   ],
   "source": [
    "def solution(i):\n",
    "    # Your code here\n",
    "    lambdaList=''\n",
    "    num=0\n",
    "    while len(lambdaList)<10005:\n",
    "        num=num+1\n",
    "        if num>1:\n",
    "            for i in range(2, num):\n",
    "               if (num % i) == 0:\n",
    "                   break\n",
    "            else:\n",
    "               lambdaList=lambdaList+str(num)\n",
    "    return(lambdaList[i:i+5])\n",
    "print(solution(3))"
   ]
  }
 ],
 "metadata": {
  "kernelspec": {
   "display_name": "Python 3",
   "language": "python",
   "name": "python3"
  },
  "language_info": {
   "codemirror_mode": {
    "name": "ipython",
    "version": 3
   },
   "file_extension": ".py",
   "mimetype": "text/x-python",
   "name": "python",
   "nbconvert_exporter": "python",
   "pygments_lexer": "ipython3",
   "version": "3.6.9"
  }
 },
 "nbformat": 4,
 "nbformat_minor": 4
}
