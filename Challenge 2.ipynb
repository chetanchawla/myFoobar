{
 "cells": [
  {
   "cell_type": "markdown",
   "metadata": {},
   "source": [
    "# Problem Statement\n",
    "Keeping track of Commander Lambda's many bunny prisoners is starting to get tricky. You've been tasked with writing a program to match bunny prisoner IDs to cell locations.\n",
    "\n",
    "The LAMBCHOP doomsday device takes up much of the interior of Commander Lambda's space station, and as a result the prison blocks have an unusual layout. They are stacked in a triangular shape, and the bunny prisoners are given numerical IDs starting from the corner, as follows:\n",
    "\n",
    "| 7\n",
    "| 4 8\n",
    "| 2 5 9\n",
    "| 1 3 6 10\n",
    "\n",
    "Each cell can be represented as points (x, y), with x being the distance from the vertical wall, and y being the height from the ground. \n",
    "\n",
    "For example, the bunny prisoner at (1, 1) has ID 1, the bunny prisoner at (3, 2) has ID 9, and the bunny prisoner at (2,3) has ID 8. This pattern of numbering continues indefinitely (Commander Lambda has been taking a LOT of prisoners). \n",
    "\n",
    "Write a function solution(x, y) which returns the prisoner ID of the bunny at location (x, y). Each value of x and y will be at least 1 and no greater than 100,000. Since the prisoner ID can be very large, return your solution as a string representation of the number.\n",
    "\n",
    "### Languages\n",
    "\n",
    "To provide a Java solution, edit Solution.java\n",
    "To provide a Python solution, edit solution.py\n",
    "\n",
    "### Test cases\n",
    "\n",
    "Your code should pass the following test cases.\n",
    "Note that it may also be run against hidden test cases not shown here.\n",
    "\n",
    "-- Java cases --\n",
    "Input:\n",
    "Solution.solution(3, 2)\n",
    "Output:\n",
    "    9\n",
    "\n",
    "Input:\n",
    "Solution.solution(5, 10)\n",
    "Output:\n",
    "    96\n",
    "\n",
    "-- Python cases --\n",
    "Input:\n",
    "solution.solution(5, 10)\n",
    "Output:\n",
    "    96\n",
    "\n",
    "Input:\n",
    "solution.solution(3, 2)\n",
    "Output:\n",
    "    9\n",
    "\n",
    "Use verify [file] to test your solution and see how it does. When you are finished editing your code, use submit [file] to submit your answer. If your solution passes the test cases, it will be removed from your home folder.\n",
    "foobar:~/bunny-prisoner-locating chetanchawlacc4$ "
   ]
  },
  {
   "cell_type": "code",
   "execution_count": 27,
   "metadata": {},
   "outputs": [
    {
     "name": "stdout",
     "output_type": "stream",
     "text": [
      "8\n"
     ]
    }
   ],
   "source": [
    "x=2\n",
    "y=3\n",
    "n = x+y-1\n",
    "prevNum = 0\n",
    "for i in range(1,n): \n",
    "    prevNum = prevNum + i\n",
    "firstNum=prevNum+1\n",
    "reqNum=firstNum+x-1\n",
    "print(reqNum)"
   ]
  },
  {
   "cell_type": "code",
   "execution_count": 32,
   "metadata": {},
   "outputs": [],
   "source": [
    "def solution(x,y):\n",
    "    rowNum = x+y-1\n",
    "    prevNum = 0\n",
    "    for i in range(1,rowNum): \n",
    "        prevNum = prevNum + i\n",
    "    firstNum=prevNum+1\n",
    "    reqNum=firstNum+x-1\n",
    "    return reqNum"
   ]
  },
  {
   "cell_type": "code",
   "execution_count": 42,
   "metadata": {},
   "outputs": [
    {
     "name": "stdout",
     "output_type": "stream",
     "text": [
      "96\n"
     ]
    }
   ],
   "source": [
    "print(solution(5, 10))"
   ]
  },
  {
   "cell_type": "code",
   "execution_count": 40,
   "metadata": {},
   "outputs": [
    {
     "name": "stdout",
     "output_type": "stream",
     "text": [
      "9\n"
     ]
    }
   ],
   "source": [
    "def solution(x, y):\n",
    "    # Your code here\n",
    "    rowNum = x+y-1\n",
    "    prevNum = 0\n",
    "    for i in range(1,rowNum): \n",
    "        prevNum = prevNum + i\n",
    "    firstNum=prevNum+1\n",
    "    reqNum=firstNum+x-1\n",
    "    print reqNum\n",
    "    return reqNum\n",
    "print(solution(3,2))"
   ]
  }
 ],
 "metadata": {
  "kernelspec": {
   "display_name": "Python 3",
   "language": "python",
   "name": "python3"
  },
  "language_info": {
   "codemirror_mode": {
    "name": "ipython",
    "version": 3
   },
   "file_extension": ".py",
   "mimetype": "text/x-python",
   "name": "python",
   "nbconvert_exporter": "python",
   "pygments_lexer": "ipython3",
   "version": "3.6.9"
  }
 },
 "nbformat": 4,
 "nbformat_minor": 4
}
